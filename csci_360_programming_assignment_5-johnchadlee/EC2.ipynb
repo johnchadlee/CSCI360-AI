{
 "cells": [
  {
   "cell_type": "code",
   "execution_count": 8,
   "metadata": {},
   "outputs": [],
   "source": [
    "import sys\n",
    "import pandas as pd\n",
    "from pandas import DataFrame\n",
    "from sklearn import preprocessing \n",
    "from sklearn.model_selection import train_test_split\n",
    "from sklearn.preprocessing import StandardScaler\n",
    "from sklearn.neural_network import MLPClassifier \n",
    "# training_set = csd.loc[:729]\n",
    "# testing_set = csd.loc[730:]\n",
    "path = ('Concrete_Data.xls')\n",
    "csd = pd.read_excel(\"Concrete_Data.xls\")\n",
    "label = csd[['Concrete compressive strength(MPa, megapascals) ']]\n",
    "le = preprocessing.LabelEncoder()\n",
    "label = label.apply(le.fit_transform)\n",
    "X_train, X_test, y_train, y_test = train_test_split(csd, label, test_size = 0.291, shuffle=False)"
   ]
  },
  {
   "cell_type": "code",
   "execution_count": 70,
   "metadata": {},
   "outputs": [
    {
     "name": "stdout",
     "output_type": "stream",
     "text": [
      "Prediction mean: 32.74\n",
      "Prediction max: 75.02\n",
      "Prediction min: 7.89\n",
      "0.9999744810578746\n",
      "{'activation': 'relu', 'alpha': 0.001, 'batch_size': 'auto', 'beta_1': 0.9, 'beta_2': 0.999, 'early_stopping': False, 'hidden_layer_sizes': 10, 'learning_rate': 'constant', 'learning_rate_init': 0.01, 'max_iter': 3000, 'momentum': 0.9, 'nesterovs_momentum': True, 'power_t': 0.5, 'random_state': None, 'shuffle': True, 'solver': 'adam', 'tol': 0.0001, 'verbose': False, 'warm_start': False}\n"
     ]
    }
   ],
   "source": [
    "import sys\n",
    "import pandas as pd\n",
    "from pandas import DataFrame\n",
    "from sklearn import preprocessing \n",
    "from sklearn.model_selection import train_test_split\n",
    "from sklearn.preprocessing import StandardScaler\n",
    "from sklearn.neural_network import MLPClassifier \n",
    "from sklearn.linear_model import SGDClassifier\n",
    "# from sklearn.pipeline import make_pipeline\n",
    "# from sklearn.metrics import classification_report, confusion_matrix\n",
    "from sklearn.metrics import mean_squared_error\n",
    "from sklearn.model_selection import GridSearchCV\n",
    "\n",
    "path = ('Concrete_Data.xls')\n",
    "X = pd.read_excel(\"Concrete_Data.xls\")\n",
    "y = X[['Concrete compressive strength(MPa, megapascals) ']]\n",
    "# le = preprocessing.LabelEncoder()\n",
    "# y = y.apply(le.fit_transform)\n",
    "X_train, X_test, y_train, y_test = train_test_split(X, y, test_size = 0.291, shuffle=False)\n",
    "\n",
    "scaler = StandardScaler()\n",
    "scaler.fit(X_train)\n",
    "X_train = scaler.transform(X_train)\n",
    "X_test = scaler.transform(X_test)\n",
    "\n",
    "param_list= {'hidden_layer_sizes':[10],  'activation':['relu'], 'solver':['adam'],'alpha':[0.001],'batch_size':['auto'],\n",
    "               'learning_rate':['constant'], 'learning_rate_init':[0.01], 'power_t':[0.5], 'max_iter':[3000], 'shuffle':[True],\n",
    "               'random_state':[None], 'tol':[0.0001], 'verbose':[False], 'warm_start':[False], 'momentum':[0.9],\n",
    "               'nesterovs_momentum':[True], 'early_stopping':[False], 'beta_1':[0.9], 'beta_2':[0.999],\n",
    "               }\n",
    "gridCV = GridSearchCV(MLPRegressor(), param_grid=param_list)\n",
    "\n",
    "gridCV.fit(X_train,y_train.values.ravel())\n",
    "predicts= gridCV.predict(X_test)\n",
    "print('Prediction mean: {:.2f}'.format(predicts.mean()))\n",
    "print('Prediction max: {:.2f}'.format(predicts.max()))\n",
    "print('Prediction min: {:.2f}'.format(predicts.min()))\n",
    "print(gridCV.score(X_train, y_train.values.ravel()))\n",
    "print(gridCV.best_params_)\n"
   ]
  },
  {
   "cell_type": "code",
   "execution_count": 71,
   "metadata": {},
   "outputs": [
    {
     "name": "stdout",
     "output_type": "stream",
     "text": [
      "Prediction mean: 32.58\n",
      "Prediction max: 77.14\n",
      "Prediction min: 10.57\n",
      "0.9963421012700064\n",
      "{'activation': 'relu', 'alpha': 0.001, 'batch_size': 'auto', 'beta_1': 0.9, 'beta_2': 0.999, 'early_stopping': True, 'hidden_layer_sizes': 10, 'learning_rate': 'constant', 'learning_rate_init': 0.01, 'max_iter': 3000, 'momentum': 0.9, 'nesterovs_momentum': True, 'power_t': 0.5, 'random_state': None, 'shuffle': True, 'solver': 'adam', 'tol': 0.0001, 'verbose': False, 'warm_start': False}\n"
     ]
    }
   ],
   "source": [
    "import sys\n",
    "import pandas as pd\n",
    "from pandas import DataFrame\n",
    "from sklearn import preprocessing \n",
    "from sklearn.model_selection import train_test_split\n",
    "from sklearn.preprocessing import StandardScaler\n",
    "from sklearn.neural_network import MLPClassifier \n",
    "from sklearn.linear_model import SGDClassifier\n",
    "# from sklearn.pipeline import make_pipeline\n",
    "# from sklearn.metrics import classification_report, confusion_matrix\n",
    "from sklearn.metrics import mean_squared_error\n",
    "from sklearn.model_selection import GridSearchCV\n",
    "\n",
    "path = ('Concrete_Data.xls')\n",
    "X = pd.read_excel(\"Concrete_Data.xls\")\n",
    "y = X[['Concrete compressive strength(MPa, megapascals) ']]\n",
    "X_train, X_test, y_train, y_test = train_test_split(X, y, test_size = 0.291, shuffle=False)\n",
    "\n",
    "scaler = StandardScaler()\n",
    "scaler.fit(X_train)\n",
    "X_train = scaler.transform(X_train)\n",
    "X_test = scaler.transform(X_test)\n",
    "\n",
    "param_list= {'hidden_layer_sizes':[10],  'activation':['relu'], 'solver':['adam'],'alpha':[0.001],'batch_size':['auto'],\n",
    "               'learning_rate':['constant'], 'learning_rate_init':[0.01], 'power_t':[0.5], 'max_iter':[3000], 'shuffle':[True],\n",
    "               'random_state':[None], 'tol':[0.0001], 'verbose':[False], 'warm_start':[False], 'momentum':[0.9],\n",
    "               'nesterovs_momentum':[True], 'early_stopping':[True], 'beta_1':[0.9], 'beta_2':[0.999],\n",
    "               }\n",
    "gridCV = GridSearchCV(MLPRegressor(), param_grid=param_list)\n",
    "\n",
    "gridCV.fit(X_train,y_train.values.ravel())\n",
    "predicts= gridCV.predict(X_test)\n",
    "print('Prediction mean: {:.2f}'.format(predicts.mean()))\n",
    "print('Prediction max: {:.2f}'.format(predicts.max()))\n",
    "print('Prediction min: {:.2f}'.format(predicts.min()))\n",
    "print(gridCV.score(X_train, y_train.values.ravel()))\n",
    "print(gridCV.best_params_)\n"
   ]
  },
  {
   "cell_type": "code",
   "execution_count": null,
   "metadata": {},
   "outputs": [],
   "source": []
  }
 ],
 "metadata": {
  "kernelspec": {
   "display_name": "Python 3",
   "language": "python",
   "name": "python3"
  },
  "language_info": {
   "codemirror_mode": {
    "name": "ipython",
    "version": 3
   },
   "file_extension": ".py",
   "mimetype": "text/x-python",
   "name": "python",
   "nbconvert_exporter": "python",
   "pygments_lexer": "ipython3",
   "version": "3.8.3"
  }
 },
 "nbformat": 4,
 "nbformat_minor": 4
}
